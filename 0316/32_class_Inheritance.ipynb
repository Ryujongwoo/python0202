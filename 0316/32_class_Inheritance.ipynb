{
 "cells": [
  {
   "cell_type": "code",
   "execution_count": 8,
   "metadata": {},
   "outputs": [],
   "source": [
    "# 부모 클래스를 만든다.\n",
    "class Parent:\n",
    "    def __init__(self, name = '무명씨', gender = False):\n",
    "        self.name = name\n",
    "        self.gender = gender\n",
    "        print('부모 클래스의 생성자가 실행됩니다.')\n",
    "    def __str__(self):\n",
    "        return '{}({})'.format(self.name, '남' if self.gender else '여')"
   ]
  },
  {
   "cell_type": "code",
   "execution_count": 9,
   "metadata": {},
   "outputs": [
    {
     "name": "stdout",
     "output_type": "stream",
     "text": [
      "부모 클래스의 생성자가 실행됩니다.\n",
      "무명씨(여)\n",
      "부모 클래스의 생성자가 실행됩니다.\n",
      "홍길동(남)\n"
     ]
    }
   ],
   "source": [
    "# 부모 클래스가 잘 생성되었나 확인한다.\n",
    "parent1 = Parent()\n",
    "print(parent1)\n",
    "parent2 = Parent('홍길동', True)\n",
    "print(parent2)"
   ]
  },
  {
   "cell_type": "code",
   "execution_count": 11,
   "metadata": {},
   "outputs": [],
   "source": [
    "# 상속이란 부모 클래스에서 선언된 모든 멤버 변수와 함수를 자식 클래스에서 별도로 선언하지 않아도 사용할 수 있는 것을\n",
    "# 말한다.\n",
    "# 클래스 상속 방법\n",
    "# class 자식클래스이름(부모클래스이름)"
   ]
  },
  {
   "cell_type": "code",
   "execution_count": 22,
   "metadata": {},
   "outputs": [],
   "source": [
    "# 부모(Parent) 클래스를 상속받는 자식(Child) 클래스를 선언한다.\n",
    "class Child(Parent):\n",
    "    # 부모 클래스로 부터 __init__(self, name = '무명씨', gender = False), __str(self)__, self.name, self.gender를 \n",
    "    # 상속받았다.\n",
    "    # 메소드 override(재정의) => 부모 클래스로 부터 상속받은 메소드를 무시하고 자식 클래스에서 다시 만들어 사용하는\n",
    "    # 것을 말한다.\n",
    "    # 부모 클래스로 부터 상속받은 __init__(self, name = '무명씨', gender = False) 생성자는 이름과 성별만 초기화 시킬\n",
    "    # 수 있으므로 별명과 나이도 초기화 시키기 위해서 생성자를 다시 만들어 사용한다.\n",
    "    def __init__(self, name = '무명씨', gender = False, nickname = '없음', age = 0):\n",
    "        self.name = name\n",
    "        self.gender = gender\n",
    "        self.nickname = nickname\n",
    "        self.age = age\n",
    "    def __str__(self):\n",
    "        return '{}({} - {}, {})'.format(self.name, '남' if self.gender else '여', self.nickname, self.age)"
   ]
  },
  {
   "cell_type": "code",
   "execution_count": 23,
   "metadata": {},
   "outputs": [
    {
     "name": "stdout",
     "output_type": "stream",
     "text": [
      "무명씨(여 - 없음, 0)\n",
      "무명씨\n",
      "False\n"
     ]
    }
   ],
   "source": [
    "child1 = Child()\n",
    "print(child1)\n",
    "# 클래스로 생성한 객체의 멤버 변수에 접근하려면 객체 이름뒤에 '.'을 찍어 접근한다.\n",
    "print(child1.name)\n",
    "print(child1.gender)"
   ]
  },
  {
   "cell_type": "code",
   "execution_count": 24,
   "metadata": {},
   "outputs": [
    {
     "name": "stdout",
     "output_type": "stream",
     "text": [
      "성춘향(여 - 이쁜이, 16)\n"
     ]
    }
   ],
   "source": [
    "child2 = Child('성춘향', False, '이쁜이', 16)\n",
    "print(child2)"
   ]
  },
  {
   "cell_type": "code",
   "execution_count": null,
   "metadata": {},
   "outputs": [],
   "source": []
  },
  {
   "cell_type": "code",
   "execution_count": null,
   "metadata": {},
   "outputs": [],
   "source": []
  }
 ],
 "metadata": {
  "kernelspec": {
   "display_name": "Python 3",
   "language": "python",
   "name": "python3"
  },
  "language_info": {
   "codemirror_mode": {
    "name": "ipython",
    "version": 3
   },
   "file_extension": ".py",
   "mimetype": "text/x-python",
   "name": "python",
   "nbconvert_exporter": "python",
   "pygments_lexer": "ipython3",
   "version": "3.6.8"
  }
 },
 "nbformat": 4,
 "nbformat_minor": 4
}
