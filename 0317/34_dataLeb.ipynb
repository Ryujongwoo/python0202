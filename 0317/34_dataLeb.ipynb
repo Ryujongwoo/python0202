{
 "cells": [
  {
   "cell_type": "code",
   "execution_count": 2,
   "metadata": {},
   "outputs": [
    {
     "name": "stdout",
     "output_type": "stream",
     "text": [
      "https://datalab.naver.com/keyword/realtimeList.naver?age=all&where=main\n",
      "https://datalab.naver.com/keyword/realtimeList.naver?age=10s&where=main\n",
      "https://datalab.naver.com/keyword/realtimeList.naver?age=20s&where=main\n",
      "https://datalab.naver.com/keyword/realtimeList.naver?age=30s&where=main\n",
      "https://datalab.naver.com/keyword/realtimeList.naver?age=40s&where=main\n",
      "https://datalab.naver.com/keyword/realtimeList.naver?age=50s&where=main\n"
     ]
    }
   ],
   "source": [
    "# 네이버 연령대별 실시간 검색어\n",
    "import requests\n",
    "from bs4 import BeautifulSoup\n",
    "# https://datalab.naver.com/keyword/realtimeList.naver?age=10s&where=main => 10대\n",
    "# https://datalab.naver.com/keyword/realtimeList.naver?age=20s&where=main => 20대\n",
    "# https://datalab.naver.com/keyword/realtimeList.naver?age=30s&where=main => 30대\n",
    "# https://datalab.naver.com/keyword/realtimeList.naver?age=40s&where=main => 40대\n",
    "# https://datalab.naver.com/keyword/realtimeList.naver?age=50s&where=main => 50대\n",
    "# https://datalab.naver.com/keyword/realtimeList.naver?age=all&where=main => 전체\n",
    "header = {'User-Agent': 'Mozilla/5.0 (compatible, MSIE 11, Windows NT 6.3; Trident/7.0; rv:11.0) like Gecko'}\n",
    "url1 = 'https://datalab.naver.com/keyword/realtimeList.naver?age=' # 공통 부분1\n",
    "url2 = '&where=main' # 공통 부분2\n",
    "ageList = {'0': 'all', '1': '10s', '2': '20s', '3': '30s', '4': '40s', '5': '50s'}\n",
    "for key in ageList:\n",
    "    targetSite = '{}{}{}'.format(url1, ageList.get(key), url2)\n",
    "    print(targetSite)"
   ]
  },
  {
   "cell_type": "code",
   "execution_count": 22,
   "metadata": {},
   "outputs": [
    {
     "name": "stdout",
     "output_type": "stream",
     "text": [
      "연령대를 선택하세요(0 => 전체, 1 => 10대, 2 => 20대, 3 => 30대, 4 => 40대, 5 => 50대이상) : 5\n",
      " 1위 : 이동국\n",
      " 2위 : 공병호\n",
      " 3위 : 남한산성\n",
      " 4위 : 이해찬 나이\n",
      " 5위 : 한선교 얼굴\n",
      " 6위 : 한선교\n",
      " 7위 : 이동국 나이\n",
      " 8위 : 윤소희\n",
      " 9위 : 이동국 부인\n",
      "10위 : 코로나 진단키트 관련주\n",
      "11위 : 이동국 연봉\n",
      "12위 : 노블바이오\n",
      "13위 : 햄릿\n",
      "14위 : 이적\n",
      "15위 : 문석균\n",
      "16위 : 한중록\n",
      "17위 : 화요일 드라마\n",
      "18위 : 전미선\n",
      "19위 : 휴먼다큐 사람이좋다\n",
      "20위 : 투렛증후군\n"
     ]
    }
   ],
   "source": [
    "age = input('연령대를 선택하세요(0 => 전체, 1 => 10대, 2 => 20대, 3 => 30대, 4 => 40대, 5 => 50대이상) : ')\n",
    "ageList = {'0': 'all', '1': '10s', '2': '20s', '3': '30s', '4': '40s', '5': '50s'}\n",
    "targetSite = '{}{}{}'.format(url1, ageList.get(age), url2)\n",
    "# print(targetSite)\n",
    "request = requests.get(targetSite, headers = header)\n",
    "html = request.text\n",
    "soup = BeautifulSoup(html, 'html.parser')\n",
    "words = soup.findAll('span', {'class': 'item_title'})\n",
    "# print(len(words))\n",
    "for i in range(len(words)):\n",
    "    print('{0:2d}위 : {1}'.format(i + 1, words[i].text))"
   ]
  },
  {
   "cell_type": "code",
   "execution_count": 13,
   "metadata": {},
   "outputs": [],
   "source": []
  },
  {
   "cell_type": "code",
   "execution_count": null,
   "metadata": {},
   "outputs": [],
   "source": []
  },
  {
   "cell_type": "code",
   "execution_count": null,
   "metadata": {},
   "outputs": [],
   "source": []
  },
  {
   "cell_type": "code",
   "execution_count": null,
   "metadata": {},
   "outputs": [],
   "source": []
  }
 ],
 "metadata": {
  "kernelspec": {
   "display_name": "Python 3",
   "language": "python",
   "name": "python3"
  },
  "language_info": {
   "codemirror_mode": {
    "name": "ipython",
    "version": 3
   },
   "file_extension": ".py",
   "mimetype": "text/x-python",
   "name": "python",
   "nbconvert_exporter": "python",
   "pygments_lexer": "ipython3",
   "version": "3.6.8"
  }
 },
 "nbformat": 4,
 "nbformat_minor": 4
}
