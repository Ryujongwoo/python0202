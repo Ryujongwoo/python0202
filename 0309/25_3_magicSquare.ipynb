{
 "cells": [
  {
   "cell_type": "code",
   "execution_count": 1,
   "metadata": {},
   "outputs": [],
   "source": [
    "# 마방진 => 가로, 세로, 대각선 어느 방향으로 덧셈을 해도 같은 값이 나온다.\n",
    "# 최초의 1이 채워지는 자리는 첫 줄 정 가운데 열이다. => 5행 5열일 경우 0행 2열에 1이 채워진다.\n",
    "# 마방진에 채운 숫자가 5의 배수가 아니면 다음 숫자는 오른쪽 위 방향(행 -1, 열 +1)에 채워진다.\n",
    "# 마방진에 채운 숫자가 5의 배수면 다음 숫자는 아래줄(행 +1)에 채워진다.\n",
    "# 다음 숫자가 채워질 위치가 리스트의 행 범위를 벗어나면 마지막 행에, 열 범위를 벗어나면 0번째 행에\n",
    "# 채운다."
   ]
  },
  {
   "cell_type": "code",
   "execution_count": null,
   "metadata": {},
   "outputs": [],
   "source": []
  }
 ],
 "metadata": {
  "kernelspec": {
   "display_name": "Python 3",
   "language": "python",
   "name": "python3"
  },
  "language_info": {
   "codemirror_mode": {
    "name": "ipython",
    "version": 3
   },
   "file_extension": ".py",
   "mimetype": "text/x-python",
   "name": "python",
   "nbconvert_exporter": "python",
   "pygments_lexer": "ipython3",
   "version": "3.6.8"
  }
 },
 "nbformat": 4,
 "nbformat_minor": 4
}
