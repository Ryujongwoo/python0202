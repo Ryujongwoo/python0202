{
 "cells": [
  {
   "cell_type": "code",
   "execution_count": 5,
   "metadata": {},
   "outputs": [],
   "source": [
    "a = [[i] * 5 for i in range(5)]\n",
    "\n",
    "n = 0 # 1 에서 25 까지 1씩 증가할 변수\n",
    "s = 1 # 행(i)과 열(j)의 증가치로 사용할 변수(1 => -1 => 1 => -1 => ...)\n",
    "i = 0 # 행\n",
    "j = -1 # 열\n",
    "k = 5 # 행과 열에 숫자를 채우는 반복 횟수로 사용할 변수"
   ]
  },
  {
   "cell_type": "code",
   "execution_count": 6,
   "metadata": {},
   "outputs": [
    {
     "name": "stdout",
     "output_type": "stream",
     "text": [
      " 1  2  3  4  5 \n",
      "16 17 18 19  6 \n",
      "15 24 25 20  7 \n",
      "14 23 22 21  8 \n",
      "13 12 11 10  9 \n"
     ]
    }
   ],
   "source": [
    "while True:\n",
    "    for p in range(1, k + 1, 1): # 행 방향 채우기 반복\n",
    "        n += 1\n",
    "        j = j + s\n",
    "        a[i][j] = n\n",
    "    # ==========================\n",
    "    k -= 1\n",
    "    if k <= 0:\n",
    "        break\n",
    "    # ==========================\n",
    "    for p in range(1, k + 1, 1): # 열 방향 채우기 반복\n",
    "        n += 1\n",
    "        i = i + s\n",
    "        a[i][j] = n\n",
    "    # ==========================\n",
    "    s *= -1\n",
    "# ==========================\n",
    "\n",
    "for i in range(5):\n",
    "    for j in range(5):\n",
    "        print('{0:2d} '.format(a[i][j]), end = '')\n",
    "    print()"
   ]
  },
  {
   "cell_type": "code",
   "execution_count": null,
   "metadata": {},
   "outputs": [],
   "source": []
  },
  {
   "cell_type": "code",
   "execution_count": null,
   "metadata": {},
   "outputs": [],
   "source": []
  },
  {
   "cell_type": "code",
   "execution_count": null,
   "metadata": {},
   "outputs": [],
   "source": []
  },
  {
   "cell_type": "code",
   "execution_count": null,
   "metadata": {},
   "outputs": [],
   "source": []
  }
 ],
 "metadata": {
  "kernelspec": {
   "display_name": "Python 3",
   "language": "python",
   "name": "python3"
  },
  "language_info": {
   "codemirror_mode": {
    "name": "ipython",
    "version": 3
   },
   "file_extension": ".py",
   "mimetype": "text/x-python",
   "name": "python",
   "nbconvert_exporter": "python",
   "pygments_lexer": "ipython3",
   "version": "3.6.8"
  }
 },
 "nbformat": 4,
 "nbformat_minor": 4
}
