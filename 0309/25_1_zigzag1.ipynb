{
 "cells": [
  {
   "cell_type": "code",
   "execution_count": 10,
   "metadata": {},
   "outputs": [
    {
     "name": "stdout",
     "output_type": "stream",
     "text": [
      "[[0, 0, 0, 0, 0], [1, 1, 1, 1, 1], [2, 2, 2, 2, 2], [3, 3, 3, 3, 3]]\n",
      " 0  0  0  0  0 \n",
      " 1  1  1  1  1 \n",
      " 2  2  2  2  2 \n",
      " 3  3  3  3  3 \n"
     ]
    }
   ],
   "source": [
    "# 2차원 리스트\n",
    "# data = [0 for i in range(5)] # 1차원 리스트\n",
    "# data = [[0] * 열 for i in range(행)] # 2차원 리스트\n",
    "data = [[i] * 5 for i in range(4)]\n",
    "print(data)\n",
    "\n",
    "for i in range(4):\n",
    "    for j in range(5):\n",
    "        print('{0:2d} '.format(data[i][j]), end = '')\n",
    "    print()"
   ]
  },
  {
   "cell_type": "code",
   "execution_count": 17,
   "metadata": {},
   "outputs": [
    {
     "name": "stdout",
     "output_type": "stream",
     "text": [
      " 1  2  3  4  5 \n",
      "10  9  8  7  6 \n",
      "11 12 13 14 15 \n",
      "20 19 18 17 16 \n"
     ]
    }
   ],
   "source": [
    "data = [[0] * 5 for i in range(4)]\n",
    "count = 0 # 1에서 20까지 1씩 증가하는 변수\n",
    "start = 0 # 리스트의 i번째 행에 숫자가 채워지기 시작하는 열(j)\n",
    "end = 4   # 리스트의 i번째 행에 숫자가 채워지는 마지막 열(j)\n",
    "sw = 1    # start 부터 end 까지 증가치(1 => -1 => 1 => -1 => ...)\n",
    "\n",
    "for i in range(4):\n",
    "    for j in range(start, end + sw, sw):\n",
    "        # print('data[{}][{}] '.format(i, j), end = '')\n",
    "        count += 1\n",
    "        data[i][j] = count\n",
    "    # ===========================================================\n",
    "    # print()\n",
    "    # 짝수행은 0번째 열 부터 4번째 열 방향으로 숫자를 채워야 하고 홀수행은 4번째 열 부터 0번째 열\n",
    "    # 방향으로 숫자를 채워야 하기 때문에 한 행에 숫자를 다 채우고 난 후 start와 end에 저장된 값을\n",
    "    # 교환해야 한다.\n",
    "    start, end = end, start\n",
    "    # 행(i)이 짝수일 경우 start 부터 end + sw 까지 1씩 증가해야 하고 행이 홀수일 경우 start 부터\n",
    "    # end + sw 까지 1씩 감소해야 하므로 리스트의 한 행에 숫자를 채우고 난 후 증가치(sw)의 부호를\n",
    "    # 변경해야 한다.\n",
    "    sw *= -1\n",
    "    \n",
    "for i in range(4):\n",
    "    for j in range(5):\n",
    "        print('{0:2d} '.format(data[i][j]), end = '')\n",
    "    print()"
   ]
  },
  {
   "cell_type": "code",
   "execution_count": null,
   "metadata": {},
   "outputs": [],
   "source": []
  },
  {
   "cell_type": "code",
   "execution_count": null,
   "metadata": {},
   "outputs": [],
   "source": []
  },
  {
   "cell_type": "code",
   "execution_count": null,
   "metadata": {},
   "outputs": [],
   "source": []
  },
  {
   "cell_type": "code",
   "execution_count": null,
   "metadata": {},
   "outputs": [],
   "source": []
  },
  {
   "cell_type": "code",
   "execution_count": null,
   "metadata": {},
   "outputs": [],
   "source": []
  },
  {
   "cell_type": "code",
   "execution_count": null,
   "metadata": {},
   "outputs": [],
   "source": []
  }
 ],
 "metadata": {
  "kernelspec": {
   "display_name": "Python 3",
   "language": "python",
   "name": "python3"
  },
  "language_info": {
   "codemirror_mode": {
    "name": "ipython",
    "version": 3
   },
   "file_extension": ".py",
   "mimetype": "text/x-python",
   "name": "python",
   "nbconvert_exporter": "python",
   "pygments_lexer": "ipython3",
   "version": "3.6.8"
  }
 },
 "nbformat": 4,
 "nbformat_minor": 4
}
