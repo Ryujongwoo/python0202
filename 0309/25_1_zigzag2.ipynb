{
 "cells": [
  {
   "cell_type": "code",
   "execution_count": 3,
   "metadata": {},
   "outputs": [
    {
     "name": "stdout",
     "output_type": "stream",
     "text": [
      "행, 열 : 7 4\n",
      "7행 4열에 지그재그 채우기\n",
      " 1  2  3  4 \n",
      " 8  7  6  5 \n",
      " 9 10 11 12 \n",
      "16 15 14 13 \n",
      "17 18 19 20 \n",
      "24 23 22 21 \n",
      "25 26 27 28 \n"
     ]
    }
   ],
   "source": [
    "n, m = map(int, input('행, 열 : ').split())\n",
    "print('{}행 {}열에 지그재그 채우기'.format(n, m))\n",
    "\n",
    "data = [[0] * m for i in range(n)]\n",
    "count = 0\n",
    "start = 0\n",
    "end = m - 1\n",
    "sw = 1\n",
    "\n",
    "for i in range(n):\n",
    "    for j in range(start, end + sw, sw):\n",
    "        count += 1\n",
    "        data[i][j] = count\n",
    "    start, end = end, start\n",
    "    sw *= -1\n",
    "    \n",
    "for i in range(n):\n",
    "    for j in range(m):\n",
    "        print('{0:2d} '.format(data[i][j]), end = '')\n",
    "    print()"
   ]
  },
  {
   "cell_type": "code",
   "execution_count": null,
   "metadata": {},
   "outputs": [],
   "source": []
  },
  {
   "cell_type": "code",
   "execution_count": null,
   "metadata": {},
   "outputs": [],
   "source": []
  },
  {
   "cell_type": "code",
   "execution_count": null,
   "metadata": {},
   "outputs": [],
   "source": []
  },
  {
   "cell_type": "code",
   "execution_count": null,
   "metadata": {},
   "outputs": [],
   "source": []
  },
  {
   "cell_type": "code",
   "execution_count": null,
   "metadata": {},
   "outputs": [],
   "source": []
  },
  {
   "cell_type": "code",
   "execution_count": null,
   "metadata": {},
   "outputs": [],
   "source": []
  }
 ],
 "metadata": {
  "kernelspec": {
   "display_name": "Python 3",
   "language": "python",
   "name": "python3"
  },
  "language_info": {
   "codemirror_mode": {
    "name": "ipython",
    "version": 3
   },
   "file_extension": ".py",
   "mimetype": "text/x-python",
   "name": "python",
   "nbconvert_exporter": "python",
   "pygments_lexer": "ipython3",
   "version": "3.6.8"
  }
 },
 "nbformat": 4,
 "nbformat_minor": 4
}
