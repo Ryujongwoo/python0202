{
 "cells": [
  {
   "cell_type": "code",
   "execution_count": 1,
   "metadata": {},
   "outputs": [],
   "source": [
    "# 크롤링에 사용할 라이브러리를 설치하고 import 한다.\n",
    "# pip install requests\n",
    "import requests # 크롤링 할 사이트에 접속해서 html 문서를 읽어온다.\n",
    "# pip install beautifulsoup4\n",
    "from bs4 import BeautifulSoup # requests 모듈을 사용해 읽어온 html 문서를 파싱한다."
   ]
  },
  {
   "cell_type": "code",
   "execution_count": 8,
   "metadata": {},
   "outputs": [],
   "source": [
    "# 타겟 사이트 => http://www.dowellcomputer.com/main.jsp\n",
    "# requests 모듈의 get 메소드로 타겟 사이트의 정보를 얻어온다.\n",
    "request = requests.get('http://www.dowellcomputer.com/main.jsp')\n",
    "# print(request) # <Response [200]> => 정보를 정상적으로 얻어왔다.\n",
    "# 타겟 사이트에서 얻어온 정보 중에서 html 문서만 텍스트로 얻어온다.\n",
    "html = request.text\n",
    "# print(html)\n",
    "# beautifulsoup4 모듈의 BeautifulSoup 메소드로 html 문서를 파싱할 준비를 한다.\n",
    "soup = BeautifulSoup(html, 'html.parser')\n",
    "# print(soup)"
   ]
  },
  {
   "cell_type": "code",
   "execution_count": 20,
   "metadata": {},
   "outputs": [],
   "source": [
    "# html 태그와 html 태그에 지정된 소성을 이용한 크롤링\n",
    "# 최근 공지사항의 제목은 class 속성이 tail인 td 태그 내부에 있다.\n",
    "# findAll('태그이름', {'속성이름': '속성값'})\n",
    "\n",
    "# notices = soup.findAll('td', {'class': 'tail'})\n",
    "# print(notices)\n",
    "# for notice in notices:\n",
    "    # print(notice)\n",
    "    # print('*' * 75)\n",
    "\n",
    "# 최근 공지사항의 제목은 b 태그 내부에 있다.\n",
    "# findAll() 함수를 사용하는데 별도의 속성을 지정할 필요 없으면 태그 이름만 사용해도 된다.\n",
    "# notices = soup.findAll('b')\n",
    "# print(notices)\n",
    "# for notice in notices[:2]:\n",
    "    # print(notice.text)\n",
    "    # print('*' * 75)    "
   ]
  },
  {
   "cell_type": "code",
   "execution_count": 32,
   "metadata": {},
   "outputs": [
    {
     "name": "stdout",
     "output_type": "stream",
     "text": [
      "자바 기초 프로그래밍 강좌를 완강했습니다.\n",
      "컴잘알에 오신 것을 환영합니다.\n"
     ]
    }
   ],
   "source": [
    "# html 태그와 자식 선택자('>') 또는 자손 선택자(공백)를 이용한 크롤링\n",
    "# select('css 선택자')\n",
    "notices = soup.select('td > a')\n",
    "# print(notices)\n",
    "for notice in notices:\n",
    "    # print(notice.text)\n",
    "    # has_attr() : 인수로 지정된 속성이 있으면 True, 없으면 False를 리턴한다.\n",
    "    # print(notice.has_attr('href'))\n",
    "    # get() : 인수로 지정된 속성값을 얻어온다.\n",
    "    # print(notice.get('href'))\n",
    "    # print('*' * 75)\n",
    "    if notice.get('href').find('notice') >= 0:\n",
    "        print(notice.text)"
   ]
  },
  {
   "cell_type": "code",
   "execution_count": null,
   "metadata": {},
   "outputs": [],
   "source": []
  },
  {
   "cell_type": "code",
   "execution_count": null,
   "metadata": {},
   "outputs": [],
   "source": []
  },
  {
   "cell_type": "code",
   "execution_count": null,
   "metadata": {},
   "outputs": [],
   "source": []
  }
 ],
 "metadata": {
  "kernelspec": {
   "display_name": "Python 3",
   "language": "python",
   "name": "python3"
  },
  "language_info": {
   "codemirror_mode": {
    "name": "ipython",
    "version": 3
   },
   "file_extension": ".py",
   "mimetype": "text/x-python",
   "name": "python",
   "nbconvert_exporter": "python",
   "pygments_lexer": "ipython3",
   "version": "3.6.8"
  }
 },
 "nbformat": 4,
 "nbformat_minor": 4
}
