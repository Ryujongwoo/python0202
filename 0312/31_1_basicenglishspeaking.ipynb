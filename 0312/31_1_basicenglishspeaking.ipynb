{
 "cells": [
  {
   "cell_type": "code",
   "execution_count": 1,
   "metadata": {},
   "outputs": [],
   "source": [
    "import requests\n",
    "from bs4 import BeautifulSoup"
   ]
  },
  {
   "cell_type": "code",
   "execution_count": 5,
   "metadata": {},
   "outputs": [],
   "source": [
    "# 타겟 사이트 => https://basicenglishspeaking.com/daily-english-conversation-topics/\n",
    "request = requests.get('https://basicenglishspeaking.com/daily-english-conversation-topics/')\n",
    "# print(request)\n",
    "html = request.text\n",
    "# print(html)\n",
    "soup = BeautifulSoup(html, 'html.parser')\n",
    "# print(soup)"
   ]
  },
  {
   "cell_type": "code",
   "execution_count": 9,
   "metadata": {},
   "outputs": [],
   "source": [
    "divs = soup.findAll('div', {'class': 'tcb-col'})\n",
    "# print(len(divs))\n",
    "# print(divs)"
   ]
  },
  {
   "cell_type": "code",
   "execution_count": 21,
   "metadata": {},
   "outputs": [
    {
     "name": "stdout",
     "output_type": "stream",
     "text": [
      "1. Family\n",
      "2. Restaurant\n",
      "3. Books\n",
      "4. Travel\n",
      "5. Website\n",
      "6. Accident\n",
      "7. Childhood memory\n",
      "8. Favorite rooms\n",
      "9. Presents\n",
      "10. Historical place\n",
      "11. Newspaper/ Magazine\n",
      "12. A memorable event\n",
      "13. A favorite subject\n",
      "14. A museum\n",
      "15. A favorite movie\n",
      "16. A foreign country\n",
      "17. Parties\n",
      "18. A teacher\n",
      "19. A friend\n",
      "20. A hotel\n",
      "21. A letter\n",
      "22. Hobbies\n",
      "23. Music\n",
      "24. Shopping\n",
      "25. Holiday\n",
      "26. Animals\n",
      "27. A practical skill\n",
      "28. Sport\n",
      "29. A School\n",
      "30. Festival\n",
      "31. Food\n",
      "32. Household appliance\n",
      "33. A music band\n",
      "34. Weather\n",
      "35. Neighbor\n",
      "36. Natural scenery\n",
      "37. Outdoor activities\n",
      "38. Law\n",
      "39. Pollution\n",
      "40. Traffic jam\n",
      "41. TV program\n",
      "42. Architect/ Building\n",
      "43. Electronic Media\n",
      "44. Job/ Career\n",
      "45. Competition/ contest\n",
      "46. A garden\n",
      "47. Hometown\n",
      "48. Clothing\n",
      "49. Advertisement\n",
      "50. A project\n",
      "51. A wedding\n",
      "52. A Coffee shop\n",
      "53. Culture\n",
      "54. Transport\n",
      "55. Politician\n",
      "56. Communication\n",
      "57. Business\n",
      "58. Computer\n",
      "59. Exercise\n",
      "60. Goal/ ambition\n",
      "61. Art\n",
      "62. Fashion\n",
      "63. Jewelry\n",
      "64. Cosmetic\n",
      "65. Indoor Game\n",
      "66. Phone conversation\n",
      "67. Learning A Second language\n",
      "68. A Creative Person\n",
      "69. A celebrity\n",
      "70. A Health Problem\n",
      "71. Technological advancements\n",
      "72. A Landmark\n",
      "73. Handcraft Items\n",
      "74. Plastic Surgery\n",
      "75. Success\n"
     ]
    }
   ],
   "source": [
    "# 대화 주제는 class 속성이 tcb-col인 div 태그 3개에 1~25, 26~50. 51~75가 나눠서 들어있다.\n",
    "'''\n",
    "for div in divs:\n",
    "    # print(div)\n",
    "    # print('*' * 75)\n",
    "    subjects = div.findAll('a')\n",
    "    for subject in subjects:\n",
    "        print(subject.text)\n",
    "'''\n",
    "\n",
    "for i in range(len(divs)):\n",
    "    # print(divs[i])\n",
    "    # print('*' * 75)\n",
    "    subjects = divs[i].findAll('a')\n",
    "    for j in range(len(subjects)):\n",
    "        print('{}. {}'.format((i * 25 + j + 1), subjects[j].text))"
   ]
  },
  {
   "cell_type": "code",
   "execution_count": null,
   "metadata": {},
   "outputs": [],
   "source": []
  },
  {
   "cell_type": "code",
   "execution_count": null,
   "metadata": {},
   "outputs": [],
   "source": []
  },
  {
   "cell_type": "code",
   "execution_count": null,
   "metadata": {},
   "outputs": [],
   "source": []
  },
  {
   "cell_type": "code",
   "execution_count": null,
   "metadata": {},
   "outputs": [],
   "source": []
  },
  {
   "cell_type": "code",
   "execution_count": null,
   "metadata": {},
   "outputs": [],
   "source": []
  },
  {
   "cell_type": "code",
   "execution_count": null,
   "metadata": {},
   "outputs": [],
   "source": []
  }
 ],
 "metadata": {
  "kernelspec": {
   "display_name": "Python 3",
   "language": "python",
   "name": "python3"
  },
  "language_info": {
   "codemirror_mode": {
    "name": "ipython",
    "version": 3
   },
   "file_extension": ".py",
   "mimetype": "text/x-python",
   "name": "python",
   "nbconvert_exporter": "python",
   "pygments_lexer": "ipython3",
   "version": "3.6.8"
  }
 },
 "nbformat": 4,
 "nbformat_minor": 4
}
