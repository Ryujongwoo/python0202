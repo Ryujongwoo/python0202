{
 "cells": [
  {
   "cell_type": "code",
   "execution_count": 1,
   "metadata": {},
   "outputs": [],
   "source": [
    "import requests\n",
    "from bs4 import BeautifulSoup\n",
    "import time"
   ]
  },
  {
   "cell_type": "code",
   "execution_count": 2,
   "metadata": {},
   "outputs": [],
   "source": [
    "# 한 건의 대화 정보를 저장하는 클래스\n",
    "class Conversation:\n",
    "    # 생성자 => 클래스의 멤버 변수(self가 붙은 변수)를 초기화 시킨다.\n",
    "    # 클래스 내부에 정의하는 멤버 함수는 첫 번째 인수로 자기 자신의 객체가 넘어온다. => 첫 번째\n",
    "    # 인수는 무조건 self를 써야한다.\n",
    "    def __init__(self, question, answer):\n",
    "        # 생성자의 인수로 넘겨받은 데이터로 멤버 변수를 초기화 시킨다.\n",
    "        # 멤버 변수는 자기 자신의 객체를 저장한 인수인 self를 사용해서 선언해야 한다.\n",
    "        self.question = question # 질문을 기억하는 멤버 변수를 선언하고 초기화 한다.\n",
    "        self.answer = answer     # 답변을 기억하는 멤버 변수를 선언하고 초기화 한다.\n",
    "    # 클래스로 생성한 객체를 출력할 때 출력할 데이터를 만드는 함수\n",
    "    def __str__(self):\n",
    "        return '질문: ' + self.question + '\\n답변: ' + self.answer"
   ]
  },
  {
   "cell_type": "code",
   "execution_count": 3,
   "metadata": {},
   "outputs": [],
   "source": [
    "# 75개의 대화 주제와 대화 주제에 따른 대화 주제 및 세부 대화 내용의 url을 파싱하는 함수\n",
    "def getSubject():\n",
    "    subjects = []     # 대화 주제를 기억하는 빈 리스트\n",
    "    contentLinks = [] # 세부 대화 내용의 url을 기억하는 빈 리스트\n",
    "    request = requests.get('https://basicenglishspeaking.com/daily-english-conversation-topics/')\n",
    "    html = request.text\n",
    "    soup = BeautifulSoup(html, 'html.parser')\n",
    "    divs = soup.findAll('div', {'class': 'tcb-col'})\n",
    "    for div in divs:\n",
    "        links = div.findAll('a')\n",
    "        for link in links:\n",
    "            # print(link.text)\n",
    "            subjects.append(link.text)\n",
    "            # print(link.get('href'))\n",
    "            contentLinks.append(link.get('href'))\n",
    "    return subjects, contentLinks"
   ]
  },
  {
   "cell_type": "code",
   "execution_count": 16,
   "metadata": {},
   "outputs": [
    {
     "name": "stdout",
     "output_type": "stream",
     "text": [
      "총 75개의 대화를 찾았습니다.\n",
      " 1 / 75 - Family\n",
      "0\n",
      "1\n",
      "2\n",
      "3\n",
      "4\n",
      "5\n",
      "6\n",
      "7\n",
      "8\n",
      "9\n",
      "10\n",
      "11\n",
      "12\n",
      "13\n",
      "14\n",
      "15\n",
      "16\n",
      "17\n",
      "18\n",
      "19\n"
     ]
    }
   ],
   "source": [
    "if __name__ == '__main__':\n",
    "    subjects, contentLinks = getSubject()\n",
    "    # for i in range(len(subjects)):\n",
    "        # print('{0:2d}. {1} - {2}'.format(i + 1, subjects[i], contentLinks[i]))\n",
    "    print('총 {}개의 대화를 찾았습니다.'.format(len(subjects)))\n",
    "    \n",
    "    # 대화 주제에 따른 모든 대화 내용을 저장할 빈 리스트를 선언한다.\n",
    "    conversation = [] # Conversation 클래스 객체가 저장된다.\n",
    "    \n",
    "    i = 0 # 대화 주제 개수를 카운트 하는 변수\n",
    "    # 대화 주제의 개수만큼 반복한다.\n",
    "    for subject in subjects[:1]:\n",
    "        print('{0:2d} / {1} - {2}'.format(i + 1, len(subjects), subjects[i]))\n",
    "        \n",
    "        # 대화 주제별 대화 내용을 크롤링할 페이지를 요청한다.\n",
    "        request = requests.get(contentLinks[i])\n",
    "        \n",
    "        # time 모듈을 import 하면 sleep() 메소드를 사용할 수 있다.\n",
    "        # sleep() 메소드는 인수로 지정된 시간만큼 프로그램을 잠시 멈춘다. => 시간은 초 단위로 지정\n",
    "        # 대형 포털 사이트는 짧은 간격으로 많은 요청이 들어오면 공격당하는 것으로 판단할 수 있기\n",
    "        # 때문에 일정한 시간 간격을 두고 사이트의 정보를 요청해야 한다.\n",
    "        time.sleep(1)\n",
    "        \n",
    "        html = request.text\n",
    "        soup = BeautifulSoup(html, 'html.parser')\n",
    "        # print(soup)\n",
    "        \n",
    "        # class 속성이 sc_player_container1인 모든 div 태그를 얻어온다.\n",
    "        divs = soup.findAll('div', {'class': 'sc_player_container1'})\n",
    "        # print(divs)\n",
    "        # print(len(divs))\n",
    "        \n",
    "        # 각 대화 주제에 따른 대화 내용의 개수만큼 반복한다.\n",
    "        for div in divs:\n",
    "            # print(div)\n",
    "            # index() : 객체의 인덱스 번호를 얻어온다.\n",
    "            # 전체 대화 내용(divs)에서 현재 대화(div)의 인덱스를 얻어온다.\n",
    "            print(divs.index(div))\n",
    "        \n",
    "        # 대화 주제 1건이 처리 완료되었으므로 다음 대화를 처리하기 위해 i를 1증가 시킨다.\n",
    "        i += 1"
   ]
  },
  {
   "cell_type": "code",
   "execution_count": null,
   "metadata": {},
   "outputs": [],
   "source": []
  },
  {
   "cell_type": "code",
   "execution_count": null,
   "metadata": {},
   "outputs": [],
   "source": []
  },
  {
   "cell_type": "code",
   "execution_count": null,
   "metadata": {},
   "outputs": [],
   "source": []
  },
  {
   "cell_type": "code",
   "execution_count": null,
   "metadata": {},
   "outputs": [],
   "source": []
  },
  {
   "cell_type": "code",
   "execution_count": null,
   "metadata": {},
   "outputs": [],
   "source": []
  }
 ],
 "metadata": {
  "kernelspec": {
   "display_name": "Python 3",
   "language": "python",
   "name": "python3"
  },
  "language_info": {
   "codemirror_mode": {
    "name": "ipython",
    "version": 3
   },
   "file_extension": ".py",
   "mimetype": "text/x-python",
   "name": "python",
   "nbconvert_exporter": "python",
   "pygments_lexer": "ipython3",
   "version": "3.6.8"
  }
 },
 "nbformat": 4,
 "nbformat_minor": 4
}
