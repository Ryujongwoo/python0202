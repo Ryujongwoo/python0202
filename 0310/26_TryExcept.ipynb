{
 "cells": [
  {
   "cell_type": "code",
   "execution_count": 1,
   "metadata": {},
   "outputs": [],
   "source": [
    "# 예외(에러) 처리\n",
    "# 프로그램을 작성할 때 잘못 동작되는 것을 방지하기 위해서 에러가 발생된다.\n",
    "# try ~ except를 사용하면 에러가 발생되면 별도의 처리를 하거나 무시하고 프로그램을 실행할 수 있다.\n",
    "# try 블록에는 에러가 발생될것으로 예상되는 문장을 코딩하고 에러가 발생되면 처리할 문장을 except\n",
    "# 블록에 코딩한다.\n",
    "# try 블록의 코드를 실행하다 에러가 발생되면 더 이상 try 블록의 코드를 실행하지 않고 해당 에러의\n",
    "# except 블록의 코드를 실행한다."
   ]
  },
  {
   "cell_type": "code",
   "execution_count": 2,
   "metadata": {},
   "outputs": [],
   "source": [
    "# try: # 필수\n",
    "    # 에러가 발생 될 것으로 예상되는 문장\n",
    "    # ...\n",
    "# except [에러 이름 [as 변수]]: # 필수\n",
    "    # 에러가 발생되면 실행할 문장\n",
    "    # ...\n",
    "# fianlly: # 선택사항 => 필요하면 사용한다.\n",
    "    # 에러 발생 여부와 관계없이 무조건 실행할 문장\n",
    "    # ..."
   ]
  },
  {
   "cell_type": "code",
   "execution_count": 4,
   "metadata": {},
   "outputs": [
    {
     "ename": "ZeroDivisionError",
     "evalue": "division by zero",
     "output_type": "error",
     "traceback": [
      "\u001b[1;31m---------------------------------------------------------------------------\u001b[0m",
      "\u001b[1;31mZeroDivisionError\u001b[0m                         Traceback (most recent call last)",
      "\u001b[1;32m<ipython-input-4-e117e6b55d2f>\u001b[0m in \u001b[0;36m<module>\u001b[1;34m\u001b[0m\n\u001b[1;32m----> 1\u001b[1;33m \u001b[0mprint\u001b[0m\u001b[1;33m(\u001b[0m\u001b[1;36m4\u001b[0m \u001b[1;33m/\u001b[0m \u001b[1;36m0\u001b[0m\u001b[1;33m)\u001b[0m\u001b[1;33m\u001b[0m\u001b[1;33m\u001b[0m\u001b[0m\n\u001b[0m",
      "\u001b[1;31mZeroDivisionError\u001b[0m: division by zero"
     ]
    }
   ],
   "source": [
    "print(4 / 0) # ZeroDivisionError가 발생된다."
   ]
  },
  {
   "cell_type": "code",
   "execution_count": 8,
   "metadata": {},
   "outputs": [
    {
     "name": "stdout",
     "output_type": "stream",
     "text": [
      "나눗셈은 0으로 할 수 없습니다.\n"
     ]
    }
   ],
   "source": [
    "try:\n",
    "    print(4 / 0)\n",
    "except:\n",
    "    print('나눗셈은 0으로 할 수 없습니다.')\n",
    "    # pass # 에러가 발생되었을 때 아무 작업도 하지 않으려면 pass를 사용하면 된다 => 에러 무시"
   ]
  },
  {
   "cell_type": "code",
   "execution_count": 10,
   "metadata": {},
   "outputs": [
    {
     "name": "stdout",
     "output_type": "stream",
     "text": [
      "3\n"
     ]
    },
    {
     "ename": "IndexError",
     "evalue": "list index out of range",
     "output_type": "error",
     "traceback": [
      "\u001b[1;31m---------------------------------------------------------------------------\u001b[0m",
      "\u001b[1;31mIndexError\u001b[0m                                Traceback (most recent call last)",
      "\u001b[1;32m<ipython-input-10-f0ee12b6aa94>\u001b[0m in \u001b[0;36m<module>\u001b[1;34m\u001b[0m\n\u001b[0;32m      1\u001b[0m \u001b[0mdata\u001b[0m \u001b[1;33m=\u001b[0m \u001b[1;33m[\u001b[0m\u001b[1;36m1\u001b[0m\u001b[1;33m,\u001b[0m \u001b[1;36m2\u001b[0m\u001b[1;33m,\u001b[0m \u001b[1;36m3\u001b[0m\u001b[1;33m]\u001b[0m\u001b[1;33m\u001b[0m\u001b[1;33m\u001b[0m\u001b[0m\n\u001b[0;32m      2\u001b[0m \u001b[0mprint\u001b[0m\u001b[1;33m(\u001b[0m\u001b[0mdata\u001b[0m\u001b[1;33m[\u001b[0m\u001b[1;36m2\u001b[0m\u001b[1;33m]\u001b[0m\u001b[1;33m)\u001b[0m\u001b[1;33m\u001b[0m\u001b[1;33m\u001b[0m\u001b[0m\n\u001b[1;32m----> 3\u001b[1;33m \u001b[0mprint\u001b[0m\u001b[1;33m(\u001b[0m\u001b[0mdata\u001b[0m\u001b[1;33m[\u001b[0m\u001b[1;36m3\u001b[0m\u001b[1;33m]\u001b[0m\u001b[1;33m)\u001b[0m\u001b[1;33m\u001b[0m\u001b[1;33m\u001b[0m\u001b[0m\n\u001b[0m",
      "\u001b[1;31mIndexError\u001b[0m: list index out of range"
     ]
    }
   ],
   "source": [
    "data = [1, 2, 3]\n",
    "print(data[2])\n",
    "print(data[3]) # IndexError가 발생된다."
   ]
  },
  {
   "cell_type": "code",
   "execution_count": 11,
   "metadata": {},
   "outputs": [
    {
     "name": "stdout",
     "output_type": "stream",
     "text": [
      "3\n",
      "리스트의 인덱스 지정이 올바르지 않습니다.\n"
     ]
    }
   ],
   "source": [
    "try:\n",
    "    data = [1, 2, 3]\n",
    "    print(data[2])\n",
    "    print(data[3])\n",
    "except:\n",
    "    print('리스트의 인덱스 지정이 올바르지 않습니다.')"
   ]
  },
  {
   "cell_type": "code",
   "execution_count": 29,
   "metadata": {},
   "outputs": [
    {
     "name": "stdout",
     "output_type": "stream",
     "text": [
      "나눗셈은 0으로 할 수 없습니다.\n",
      "division by zero\n",
      "에러 발생 여부와 상관없이 무조건 실행됩니다.\n"
     ]
    }
   ],
   "source": [
    "try:\n",
    "    print(4 / 0)\n",
    "    data = [1, 2, 3]\n",
    "    print(data[2])\n",
    "    print(data[3])\n",
    "    print(data[2] + '100')\n",
    "except IndexError:\n",
    "    print('리스트의 인덱스 지정이 올바르지 않습니다.')\n",
    "except ZeroDivisionError as e:\n",
    "    # except만 사용하고 에러 이름을 지정하지 않으면 모든 에러에 대해서 except 블록이 실행된다.\n",
    "    # except뒤에 에러 이름을 적어주면 지정된 에러만 except 블록이 실행된다.\n",
    "    print('나눗셈은 0으로 할 수 없습니다.')\n",
    "    # 에러 이름 뒤에 as를 쓰고 변수를 적으면 변수에 에러 이름이 저장된다.\n",
    "    print(e)\n",
    "except:\n",
    "    # except 뒤에 에러 이름을 쓰지 않는 경우 반드시 맨 마지막 except로 사용해야 한다.\n",
    "    print('IndexError, ZeroDivisionError 이외의 에러가 발생되면 실행됩니다.')\n",
    "finally:\n",
    "    print('에러 발생 여부와 상관없이 무조건 실행됩니다.')"
   ]
  },
  {
   "cell_type": "code",
   "execution_count": null,
   "metadata": {},
   "outputs": [],
   "source": []
  },
  {
   "cell_type": "code",
   "execution_count": null,
   "metadata": {},
   "outputs": [],
   "source": []
  },
  {
   "cell_type": "code",
   "execution_count": null,
   "metadata": {},
   "outputs": [],
   "source": []
  },
  {
   "cell_type": "code",
   "execution_count": null,
   "metadata": {},
   "outputs": [],
   "source": []
  }
 ],
 "metadata": {
  "kernelspec": {
   "display_name": "Python 3",
   "language": "python",
   "name": "python3"
  },
  "language_info": {
   "codemirror_mode": {
    "name": "ipython",
    "version": 3
   },
   "file_extension": ".py",
   "mimetype": "text/x-python",
   "name": "python",
   "nbconvert_exporter": "python",
   "pygments_lexer": "ipython3",
   "version": "3.6.8"
  }
 },
 "nbformat": 4,
 "nbformat_minor": 4
}
