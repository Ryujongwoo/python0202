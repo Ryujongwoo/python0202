{
 "cells": [
  {
   "cell_type": "code",
   "execution_count": 1,
   "metadata": {},
   "outputs": [],
   "source": [
    "# class는 데이터와 데이터를 처리하는 함수를 가지고 있는 자료형이다. => 사용자 정의 자료형"
   ]
  },
  {
   "cell_type": "code",
   "execution_count": 2,
   "metadata": {},
   "outputs": [],
   "source": [
    "# class 클래스이름:\n",
    "    # 생성자(constructor)란 클래스의 객체(변수)가 생성될 때 자동으로 실행되는 함수로 class의 멤버\n",
    "    # 변수를 초기화 시키는 목적으로 사용된다.\n",
    "    # __init__() => 파이썬의 생성자 함수로 이름이 정해져 있다.\n",
    "    # class 내부에서 정의하는 모든 함수는 첫 번째 인수는 무조건 클래스 자신을 의미하는 self를\n",
    "    # 사용해야 한다.\n",
    "    # def __init__(self[, 인수, ...]):\n",
    "        # 변수 이름 앞에 self를 붙여준 변수를 멤버 변수라 부르고 클래스의 모든 함수에서 사용할 수\n",
    "        # 있고 self를 붙이지 않은 함수는 지역 변수라 부르고 변수가 선언된 함수 내부에서만 사용할 수\n",
    "        # 있다.\n",
    "        # self.변수 => 멤버 변수\n",
    "        # 변수 => 지역 변수\n",
    "        \n",
    "    # 클래스의 멤버 변수에 저장된 데이터 출력에 사용하는 함수\n",
    "    # 클래스로 생성한 객체를 print()로 출력할 때 객체에 저장된 데이터 출력에 사용한다.\n",
    "    # __str__() 함수를 선언하지 않으면 객체를 생성한 클래스 이름과 객체가 생성된 메모리의 주소가\n",
    "    # 출력된다.\n",
    "    # __str__(self)\n",
    "        # return 하는 데이터는 반드시 문자열 형태의 데이터만 return 할 수 있다.\n",
    "        # return 출력할 데이터"
   ]
  },
  {
   "cell_type": "code",
   "execution_count": 102,
   "metadata": {},
   "outputs": [],
   "source": [
    "class Calculator:\n",
    "    # self는 클래스 자신을 의미하며 클래스 외부에서 호출될 때 자신의 정보가 저장된다.\n",
    "    def __init__(self, *num):\n",
    "        print('생성자 함수는 클래스의 객체가 생성될 때 자동으로 실행됩니다.')\n",
    "        self.first = 0\n",
    "        self.second = 0\n",
    "        self.third = 0\n",
    "        # print('first = {}'.format(first))\n",
    "        if len(num) == 1:\n",
    "            self.first = num[0] # 멤버 변수 초기화\n",
    "        elif len(num) == 2:\n",
    "            self.first = num[0]\n",
    "            self.second = num[1]\n",
    "        elif len(num) == 3:\n",
    "            self.first = num[0]\n",
    "            self.second = num[1]\n",
    "            self.third = num[2]\n",
    "        # print('self.first = {}'.format(self.first))\n",
    "    def __str__(self):\n",
    "        # return '객체 안의 멤버 변수에 뭐가 저장되있나 궁금해 죽겠다~~~~~~'\n",
    "        # return 'self.first = {}'.format(self.first)\n",
    "        return str(self.first + self.second + self.third)"
   ]
  },
  {
   "cell_type": "code",
   "execution_count": 103,
   "metadata": {},
   "outputs": [],
   "source": [
    "# 클래스 객체(변수) 생성 방법\n",
    "# 객체이름 = 클래스이름([인수, ...])"
   ]
  },
  {
   "cell_type": "code",
   "execution_count": 104,
   "metadata": {},
   "outputs": [
    {
     "name": "stdout",
     "output_type": "stream",
     "text": [
      "생성자 함수는 클래스의 객체가 생성될 때 자동으로 실행됩니다.\n",
      "0\n"
     ]
    }
   ],
   "source": [
    "cal0 = Calculator()\n",
    "print(cal0)"
   ]
  },
  {
   "cell_type": "code",
   "execution_count": 105,
   "metadata": {},
   "outputs": [
    {
     "name": "stdout",
     "output_type": "stream",
     "text": [
      "생성자 함수는 클래스의 객체가 생성될 때 자동으로 실행됩니다.\n",
      "100\n"
     ]
    }
   ],
   "source": [
    "cal1 = Calculator(100)\n",
    "print(cal1)"
   ]
  },
  {
   "cell_type": "code",
   "execution_count": 106,
   "metadata": {},
   "outputs": [
    {
     "name": "stdout",
     "output_type": "stream",
     "text": [
      "생성자 함수는 클래스의 객체가 생성될 때 자동으로 실행됩니다.\n",
      "300\n"
     ]
    }
   ],
   "source": [
    "cal2 = Calculator(100, 200)\n",
    "print(cal2)"
   ]
  },
  {
   "cell_type": "code",
   "execution_count": 107,
   "metadata": {},
   "outputs": [
    {
     "name": "stdout",
     "output_type": "stream",
     "text": [
      "생성자 함수는 클래스의 객체가 생성될 때 자동으로 실행됩니다.\n",
      "600\n"
     ]
    }
   ],
   "source": [
    "cal3 = Calculator(100, 200, 300)\n",
    "print(cal3)"
   ]
  },
  {
   "cell_type": "code",
   "execution_count": null,
   "metadata": {},
   "outputs": [],
   "source": []
  }
 ],
 "metadata": {
  "kernelspec": {
   "display_name": "Python 3",
   "language": "python",
   "name": "python3"
  },
  "language_info": {
   "codemirror_mode": {
    "name": "ipython",
    "version": 3
   },
   "file_extension": ".py",
   "mimetype": "text/x-python",
   "name": "python",
   "nbconvert_exporter": "python",
   "pygments_lexer": "ipython3",
   "version": "3.6.8"
  }
 },
 "nbformat": 4,
 "nbformat_minor": 4
}
