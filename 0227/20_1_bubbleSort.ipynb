{
 "cells": [
  {
   "cell_type": "markdown",
   "metadata": {},
   "source": [
    "인접한 2개의 데이터를 비교한다.  \n",
    "선택 정렬은 바깥 반복이 회전수와 정렬을 하기 위해서 선택하는 데이터의 위치를 의미하지만 버블 정렬에서 바깥쪽 반복은 단순히 회전수를 제어하는 역할만 한다.  \n",
    "선택 정렬은 안쪽 반복이 선택된 데이터(i번째 데이터)와 비교하는 대상이 되는 데이터의 위치를 의미하지만 버블 정렬은 데이터를 정렬하기 위해서 비교하는 데이터의 위치를 의미한다."
   ]
  },
  {
   "cell_type": "code",
   "execution_count": 2,
   "metadata": {},
   "outputs": [
    {
     "name": "stdout",
     "output_type": "stream",
     "text": [
      "i = 0, j = 0\n",
      "i = 0, j = 1\n",
      "i = 0, j = 2\n",
      "i = 0, j = 3\n",
      "******************************\n",
      "i = 1, j = 0\n",
      "i = 1, j = 1\n",
      "i = 1, j = 2\n",
      "******************************\n",
      "i = 2, j = 0\n",
      "i = 2, j = 1\n",
      "******************************\n",
      "i = 3, j = 0\n",
      "******************************\n"
     ]
    }
   ],
   "source": [
    "for i in range(0, 4, 1):\n",
    "    for j in range(0, 4 - i, 1):\n",
    "        print('i = {}, j = {}'.format(i, j))\n",
    "    # ========================== j\n",
    "    print('*' * 30)\n",
    "# ====================== i\n"
   ]
  },
  {
   "cell_type": "code",
   "execution_count": 9,
   "metadata": {},
   "outputs": [
    {
     "name": "stdout",
     "output_type": "stream",
     "text": [
      "1회전 결과 : [1, 3, 4, 8, 9]\n",
      "2회전 결과 : [1, 3, 4, 8, 9]\n",
      "3회전 결과 : [1, 3, 4, 8, 9]\n",
      "4회전 결과 : [1, 3, 4, 8, 9]\n"
     ]
    }
   ],
   "source": [
    "data = [9, 1, 3, 4, 8]\n",
    "\n",
    "for i in range(0, len(data) - 1, 1):\n",
    "    for j in range(0, len(data) - 1 - i, 1):\n",
    "        if data[j] > data[j + 1]:\n",
    "            data[j], data[j + 1] = data[j + 1], data[j]\n",
    "    # ======================= j, 회전 종료\n",
    "    print('{}회전 결과 : {}'.format(i + 1, data))\n",
    "# =========================== i, 정렬 종료\n",
    "# print('정렬 결과 : {}'.format(data))"
   ]
  },
  {
   "cell_type": "code",
   "execution_count": null,
   "metadata": {},
   "outputs": [],
   "source": []
  },
  {
   "cell_type": "code",
   "execution_count": null,
   "metadata": {},
   "outputs": [],
   "source": []
  },
  {
   "cell_type": "code",
   "execution_count": null,
   "metadata": {},
   "outputs": [],
   "source": []
  },
  {
   "cell_type": "code",
   "execution_count": null,
   "metadata": {},
   "outputs": [],
   "source": []
  },
  {
   "cell_type": "code",
   "execution_count": null,
   "metadata": {},
   "outputs": [],
   "source": []
  }
 ],
 "metadata": {
  "kernelspec": {
   "display_name": "Python 3",
   "language": "python",
   "name": "python3"
  },
  "language_info": {
   "codemirror_mode": {
    "name": "ipython",
    "version": 3
   },
   "file_extension": ".py",
   "mimetype": "text/x-python",
   "name": "python",
   "nbconvert_exporter": "python",
   "pygments_lexer": "ipython3",
   "version": "3.6.8"
  }
 },
 "nbformat": 4,
 "nbformat_minor": 4
}
