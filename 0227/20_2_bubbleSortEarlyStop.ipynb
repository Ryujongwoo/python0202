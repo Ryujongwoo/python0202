{
 "cells": [
  {
   "cell_type": "code",
   "execution_count": 5,
   "metadata": {},
   "outputs": [
    {
     "name": "stdout",
     "output_type": "stream",
     "text": [
      "1회전 결과 : [3, 4, 8, 1, 9]\n",
      "2회전 결과 : [3, 4, 1, 8, 9]\n",
      "3회전 결과 : [3, 1, 4, 8, 9]\n",
      "4회전 결과 : [1, 3, 4, 8, 9]\n"
     ]
    }
   ],
   "source": [
    "data = [8, 3, 4, 9, 1]\n",
    "# data = [9, 1, 3, 4, 8]\n",
    "\n",
    "for i in range(0, len(data) - 1, 1):\n",
    "    # 정렬(비교) 작업을 시작하기 전에 flag 변수를 True로 초기화 시킨다.\n",
    "    flag = True\n",
    "    for j in range(0, len(data) - 1 - i, 1):\n",
    "        if data[j] > data[j + 1]:\n",
    "            data[j], data[j + 1] = data[j + 1], data[j]\n",
    "            # 값 교환 작업(정렬 작업)이 실행되면 flag 변수의 값을 False로 변경한다.\n",
    "            flag = False\n",
    "    # ======================= j, 회전 종료\n",
    "    # 값 교환 작업이 한 번도 실행되지 않았다는 말은 이미 정렬된 데이터라는 의미이므로 더 이상 정렬\n",
    "    # 작업을 실행할 필요가 없으므로 반복을 중지시킨다.\n",
    "    if flag:\n",
    "        break\n",
    "    print('{}회전 결과 : {}'.format(i + 1, data))\n",
    "# =========================== i, 정렬 종료\n",
    "# print('정렬 결과 : {}'.format(data))"
   ]
  },
  {
   "cell_type": "code",
   "execution_count": null,
   "metadata": {},
   "outputs": [],
   "source": []
  }
 ],
 "metadata": {
  "kernelspec": {
   "display_name": "Python 3",
   "language": "python",
   "name": "python3"
  },
  "language_info": {
   "codemirror_mode": {
    "name": "ipython",
    "version": 3
   },
   "file_extension": ".py",
   "mimetype": "text/x-python",
   "name": "python",
   "nbconvert_exporter": "python",
   "pygments_lexer": "ipython3",
   "version": "3.6.8"
  }
 },
 "nbformat": 4,
 "nbformat_minor": 4
}
