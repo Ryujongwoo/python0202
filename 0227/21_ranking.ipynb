{
 "cells": [
  {
   "cell_type": "markdown",
   "metadata": {},
   "source": [
    "선택 정렬의 반복 알고리즘을 이용해 내림차순(큰게 1등) 석차를 계산하는 프로그램"
   ]
  },
  {
   "cell_type": "code",
   "execution_count": 17,
   "metadata": {},
   "outputs": [
    {
     "name": "stdout",
     "output_type": "stream",
     "text": [
      " 70점은 5등 입니다.100점은 1등 입니다. 80점은 4등 입니다. 95점은 2등 입니다. 90점은 3등 입니다."
     ]
    }
   ],
   "source": [
    "score = [70, 100, 80, 95, 90]\n",
    "# rank = [1, 1, 1, 1, 1]\n",
    "rank = [1 for i in range(len(score))]\n",
    "# print(rank)\n",
    "\n",
    "for i in range(len(score) - 1):\n",
    "    for j in range(i + 1, len(score)):\n",
    "        # i번째 점수가 크면 j번째 석차를 1증가 시키고 j번째 점수가 크면 i번째 석차를 1증가 시킨다.\n",
    "        # 부등호 방향을 반대로 바꿔주면 오름차순(작은게 1등) 석차를 계산할 수 있다.\n",
    "        if score[i] > score[j]:\n",
    "            rank[j] += 1\n",
    "        elif score[i] < score[j]:\n",
    "            rank[i] += 1\n",
    "            \n",
    "for i in range(len(score)):\n",
    "    print('{0:3d}점은 {1}등 입니다.'.format(score[i], rank[i]), end = '')\n",
    "    # 10점당 '★'1개씩 출력한다. => 5점 단위로 '☆'을 출력한다. => 95 : ★★★★★★★★★☆\n",
    "    "
   ]
  },
  {
   "cell_type": "code",
   "execution_count": null,
   "metadata": {},
   "outputs": [],
   "source": []
  },
  {
   "cell_type": "code",
   "execution_count": null,
   "metadata": {},
   "outputs": [],
   "source": []
  },
  {
   "cell_type": "code",
   "execution_count": null,
   "metadata": {},
   "outputs": [],
   "source": []
  }
 ],
 "metadata": {
  "kernelspec": {
   "display_name": "Python 3",
   "language": "python",
   "name": "python3"
  },
  "language_info": {
   "codemirror_mode": {
    "name": "ipython",
    "version": 3
   },
   "file_extension": ".py",
   "mimetype": "text/x-python",
   "name": "python",
   "nbconvert_exporter": "python",
   "pygments_lexer": "ipython3",
   "version": "3.6.8"
  }
 },
 "nbformat": 4,
 "nbformat_minor": 4
}
