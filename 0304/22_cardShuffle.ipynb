{
 "cells": [
  {
   "cell_type": "code",
   "execution_count": 1,
   "metadata": {},
   "outputs": [],
   "source": [
    "from random import randrange"
   ]
  },
  {
   "cell_type": "code",
   "execution_count": 2,
   "metadata": {},
   "outputs": [],
   "source": [
    "def cardPrint():\n",
    "    for i in range(52):\n",
    "        print('{0:s}{1:2s}'.format(symbol[cards[i] // 13], number[cards[i] % 13]), end = ' ')\n",
    "        if (i + 1) % 13 == 0:\n",
    "            print()"
   ]
  },
  {
   "cell_type": "code",
   "execution_count": 3,
   "metadata": {},
   "outputs": [],
   "source": [
    "# 카드 출력에 사용할 숫자와 무늬를 기억하는 리스트를 만든다.\n",
    "number = ['A', '2', '3', '4', '5', '6', '7', '8', '9', '10', 'J', 'Q', 'K']\n",
    "symbol = ['♠', '◇', '♥', '♧']"
   ]
  },
  {
   "cell_type": "code",
   "execution_count": 4,
   "metadata": {},
   "outputs": [
    {
     "name": "stdout",
     "output_type": "stream",
     "text": [
      "[0, 1, 2, 3, 4, 5, 6, 7, 8, 9, 10, 11, 12, 13, 14, 15, 16, 17, 18, 19, 20, 21, 22, 23, 24, 25, 26, 27, 28, 29, 30, 31, 32, 33, 34, 35, 36, 37, 38, 39, 40, 41, 42, 43, 44, 45, 46, 47, 48, 49, 50, 51]\n"
     ]
    }
   ],
   "source": [
    "# 빈 리스트를 만들어 카드로 사용할 숫자(0 ~ 51)를 저장한다.\n",
    "'''\n",
    "cards = []\n",
    "for i in range(52):\n",
    "    cards.append(i)\n",
    "''' \n",
    "# 반복문을 사용해서 0 ~ 51이 저장된 리스트를 만든다.\n",
    "cards = [i for i in range(52)]\n",
    "\n",
    "print(cards)"
   ]
  },
  {
   "cell_type": "code",
   "execution_count": 5,
   "metadata": {},
   "outputs": [
    {
     "name": "stdout",
     "output_type": "stream",
     "text": [
      "♠A  ♠2  ♠3  ♠4  ♠5  ♠6  ♠7  ♠8  ♠9  ♠10 ♠J  ♠Q  ♠K  \n",
      "◇A  ◇2  ◇3  ◇4  ◇5  ◇6  ◇7  ◇8  ◇9  ◇10 ◇J  ◇Q  ◇K  \n",
      "♥A  ♥2  ♥3  ♥4  ♥5  ♥6  ♥7  ♥8  ♥9  ♥10 ♥J  ♥Q  ♥K  \n",
      "♧A  ♧2  ♧3  ♧4  ♧5  ♧6  ♧7  ♧8  ♧9  ♧10 ♧J  ♧Q  ♧K  \n",
      "================섞기전================\n"
     ]
    }
   ],
   "source": [
    "# cards 리스트에 저장된 데이터를 1줄에 13개씩 출력한다.\n",
    "'''\n",
    "for i in range(52):\n",
    "    # print('%2s' % number[cards[i] % 13], end = ' ') # 숫자만\n",
    "    # print('{0:2s}'.format(number[cards[i] % 13]), end = ' ') # 숫자만\n",
    "    # print('{0:s}'.format(symbol[cards[i] // 13]), end = ' ') # 무늬만\n",
    "    print('{0:s}{1:2s}'.format(symbol[cards[i] // 13], number[cards[i] % 13]), end = ' ')\n",
    "    if (i + 1) % 13 == 0:\n",
    "        print()\n",
    "'''\n",
    "cardPrint()\n",
    "print('================섞기전================')"
   ]
  },
  {
   "cell_type": "code",
   "execution_count": 6,
   "metadata": {},
   "outputs": [],
   "source": [
    "# 섞는다.\n",
    "for i in range(1000000):\n",
    "    r = randrange(1, 52)\n",
    "    cards[0], cards[r] = cards[r], cards[0]"
   ]
  },
  {
   "cell_type": "code",
   "execution_count": 7,
   "metadata": {},
   "outputs": [
    {
     "name": "stdout",
     "output_type": "stream",
     "text": [
      "◇J  ♥Q  ♥K  ♠8  ♠3  ♥8  ♧5  ◇Q  ♠7  ♠A  ♠Q  ♧10 ♧A  \n",
      "♧2  ◇10 ♥7  ♧J  ♠6  ♥4  ♠9  ◇4  ◇8  ◇7  ♠K  ◇2  ♥5  \n",
      "◇K  ♧8  ♠5  ◇A  ♠2  ♧K  ♧9  ◇3  ◇5  ♠10 ♥2  ♧4  ♥A  \n",
      "♥9  ♠4  ♥J  ♥10 ◇6  ♧3  ♥3  ♧Q  ♧6  ♠J  ♥6  ♧7  ◇9  \n",
      "================섞은후================\n"
     ]
    }
   ],
   "source": [
    "'''\n",
    "for i in range(52):\n",
    "    print('{0:s}{1:2s}'.format(symbol[cards[i] // 13], number[cards[i] % 13]), end = ' ')\n",
    "    if (i + 1) % 13 == 0:\n",
    "        print()\n",
    "'''\n",
    "cardPrint()\n",
    "print('================섞은후================')"
   ]
  },
  {
   "cell_type": "code",
   "execution_count": null,
   "metadata": {},
   "outputs": [],
   "source": []
  },
  {
   "cell_type": "code",
   "execution_count": null,
   "metadata": {},
   "outputs": [],
   "source": []
  }
 ],
 "metadata": {
  "kernelspec": {
   "display_name": "Python 3",
   "language": "python",
   "name": "python3"
  },
  "language_info": {
   "codemirror_mode": {
    "name": "ipython",
    "version": 3
   },
   "file_extension": ".py",
   "mimetype": "text/x-python",
   "name": "python",
   "nbconvert_exporter": "python",
   "pygments_lexer": "ipython3",
   "version": "3.6.8"
  }
 },
 "nbformat": 4,
 "nbformat_minor": 4
}
