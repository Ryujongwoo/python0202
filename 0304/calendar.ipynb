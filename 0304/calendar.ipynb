{
 "cells": [
  {
   "cell_type": "code",
   "execution_count": 17,
   "metadata": {},
   "outputs": [],
   "source": [
    "# 달력 작업에 필요한 함수를 만든다.\n",
    "\n",
    "# 년도를 인수로 넘겨받아 윤년, 평년을 판단해 윤년이면 true, 평년이면 False를 리턴하는 함수\n",
    "# 논리값을 리턴하는 함수나 논리값을 기억하는 변수의 이름은 'is'로 시작하는 것이 관행이다.\n",
    "def isLeapYear(year):\n",
    "    # 년도가 4로 나눠 떨어지고 100으로 나눠 떨어지지 않거나 400으로 나눠 떨어지면 윤년\n",
    "    return year % 4 == 0 and year % 100 != 0 or year % 400 == 0\n",
    "\n",
    "# 년, 월을 인수로 넘겨받아 그 달의 마지막 날짜를 리턴하는 함수\n",
    "def lastDay(year, month):\n",
    "    # 12달의 마지막 날짜를 기억하는 리스트를 만든다.\n",
    "    m = [31, 28, 31, 30, 31, 30, 31, 31, 30, 31, 30, 31]\n",
    "    # 윤년, 평년에 따른 2월의 마지막 날짜를 결정한다.\n",
    "    '''\n",
    "    if isLeapYear(year):\n",
    "        m[1] = 29\n",
    "    '''\n",
    "    m[1] = 29 if isLeapYear(year) else 28\n",
    "    # 마지막 날짜를 리턴시킨다.\n",
    "    return m[month - 1]\n",
    "\n",
    "# 년, 월, 일을 인수로 넘겨받아 1년 1월 1일 부터 지나온 날짜의 합계를 리턴하는 함수\n",
    "def totalDay(year, month, day):\n",
    "    # 1년 1월 1일 부터 전년도 12월 31일 까지 지난 날짜를 계산한다.\n",
    "    total = (year - 1) * 365 + (year - 1) // 4 - (year - 1) // 100 + (year - 1) // 400\n",
    "    # 전년도 12월 31일 까지 지난 날짜에 전달 까지 지난 날짜를 더한다.\n",
    "    for i in range(1, month):\n",
    "        total += lastDay(year, i)\n",
    "    # 전달 까지 지난 날짜에 일을 더해서 리턴시킨다.\n",
    "    return total + day"
   ]
  },
  {
   "cell_type": "code",
   "execution_count": 18,
   "metadata": {},
   "outputs": [
    {
     "name": "stdout",
     "output_type": "stream",
     "text": [
      "True\n",
      "31\n",
      "737488\n"
     ]
    }
   ],
   "source": [
    "if __name__ == '__main__':\n",
    "    print(isLeapYear(2020))\n",
    "    print(lastDay(2020, 3))\n",
    "    print(totalDay(2020, 3, 4))"
   ]
  },
  {
   "cell_type": "code",
   "execution_count": null,
   "metadata": {},
   "outputs": [],
   "source": []
  },
  {
   "cell_type": "code",
   "execution_count": null,
   "metadata": {},
   "outputs": [],
   "source": []
  },
  {
   "cell_type": "code",
   "execution_count": null,
   "metadata": {},
   "outputs": [],
   "source": []
  },
  {
   "cell_type": "code",
   "execution_count": null,
   "metadata": {},
   "outputs": [],
   "source": []
  }
 ],
 "metadata": {
  "kernelspec": {
   "display_name": "Python 3",
   "language": "python",
   "name": "python3"
  },
  "language_info": {
   "codemirror_mode": {
    "name": "ipython",
    "version": 3
   },
   "file_extension": ".py",
   "mimetype": "text/x-python",
   "name": "python",
   "nbconvert_exporter": "python",
   "pygments_lexer": "ipython3",
   "version": "3.6.8"
  }
 },
 "nbformat": 4,
 "nbformat_minor": 4
}
