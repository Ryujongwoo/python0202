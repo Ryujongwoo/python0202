{
 "cells": [
  {
   "cell_type": "code",
   "execution_count": 3,
   "metadata": {},
   "outputs": [
    {
     "name": "stdout",
     "output_type": "stream",
     "text": [
      "2020-03-05 22:06:47.139022\n"
     ]
    }
   ],
   "source": [
    "import datetime\n",
    "\n",
    "# now() : 컴퓨터 시스템의 날짜와 시간을 얻어온다.\n",
    "now = datetime.datetime.now()\n",
    "print(now)"
   ]
  },
  {
   "cell_type": "code",
   "execution_count": 4,
   "metadata": {},
   "outputs": [
    {
     "name": "stdout",
     "output_type": "stream",
     "text": [
      "2020-03-05 22:06:47.634697\n"
     ]
    }
   ],
   "source": [
    "from datetime import datetime\n",
    "now = datetime.now()\n",
    "print(now)"
   ]
  },
  {
   "cell_type": "code",
   "execution_count": 5,
   "metadata": {},
   "outputs": [
    {
     "name": "stdout",
     "output_type": "stream",
     "text": [
      "2020-03-05 22:06:48.076514\n",
      "2020\n",
      "3\n",
      "5\n",
      "22\n",
      "6\n",
      "48\n",
      "76514\n",
      "76\n",
      "3\n"
     ]
    }
   ],
   "source": [
    "from datetime import datetime as dt\n",
    "now = dt.now()\n",
    "print(now)\n",
    "\n",
    "print(now.year)                # 년\n",
    "print(now.month)               # 월\n",
    "print(now.day)                 # 일\n",
    "print(now.hour)                # 시\n",
    "print(now.minute)              # 초\n",
    "print(now.second)              # 분\n",
    "print(now.microsecond)         # 마이크로초\n",
    "print(now.microsecond // 1000) # 밀리초\n",
    "print(now.weekday())           # 요일, 월 => 0, 화 => 1, ..., 토 => 6, 일 => 7"
   ]
  },
  {
   "cell_type": "code",
   "execution_count": 6,
   "metadata": {},
   "outputs": [],
   "source": [
    "# 날짜 및 시간 서식 지정하기\n",
    "# strftime('날짜 또는 시간 서식') : 날짜와 시간에 지정된 서식을 적용한다.\n",
    "# ============================================\n",
    "# %Y => 년도 4자리\n",
    "# %y => 년도 2자리\n",
    "# %m => 월(숫자)\n",
    "# %B => 월(영어, 전체)\n",
    "# %b or %h => 월(영어, 3글자)\n",
    "# %d => 일\n",
    "# %A => 요일(영어, 전체)\n",
    "# %a => 요일(영어, 3글자)\n",
    "# ============================================\n",
    "# %H => 시간(24시각)\n",
    "# %I => 시간(12시각)\n",
    "# %M => 분\n",
    "# %S => 초\n",
    "# %f => 마이크로초\n",
    "# %p => AM/PM"
   ]
  },
  {
   "cell_type": "code",
   "execution_count": 7,
   "metadata": {},
   "outputs": [
    {
     "name": "stdout",
     "output_type": "stream",
     "text": [
      "2020-03-05\n",
      "2020-March-05\n",
      "2020-Mar-05\n",
      "2020-Mar-05\n",
      "Thursday March-05-20\n",
      "22:06:48.076514\n",
      "PM 10:06:48\n"
     ]
    }
   ],
   "source": [
    "print(now.strftime('%Y-%m-%d'))\n",
    "print(now.strftime('%Y-%B-%d'))\n",
    "print(now.strftime('%Y-%b-%d'))\n",
    "print(now.strftime('%Y-%h-%d'))\n",
    "print(now.strftime('%A %B-%d-%y'))\n",
    "print(now.strftime('%H:%M:%S.%f'))\n",
    "print(now.strftime('%p %I:%M:%S'))"
   ]
  },
  {
   "cell_type": "code",
   "execution_count": null,
   "metadata": {},
   "outputs": [],
   "source": []
  },
  {
   "cell_type": "code",
   "execution_count": null,
   "metadata": {},
   "outputs": [],
   "source": []
  },
  {
   "cell_type": "code",
   "execution_count": null,
   "metadata": {},
   "outputs": [],
   "source": []
  },
  {
   "cell_type": "code",
   "execution_count": null,
   "metadata": {},
   "outputs": [],
   "source": []
  }
 ],
 "metadata": {
  "kernelspec": {
   "display_name": "Python 3",
   "language": "python",
   "name": "python3"
  },
  "language_info": {
   "codemirror_mode": {
    "name": "ipython",
    "version": 3
   },
   "file_extension": ".py",
   "mimetype": "text/x-python",
   "name": "python",
   "nbconvert_exporter": "python",
   "pygments_lexer": "ipython3",
   "version": "3.6.8"
  }
 },
 "nbformat": 4,
 "nbformat_minor": 4
}
