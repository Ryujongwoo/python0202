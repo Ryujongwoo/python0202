{
 "cells": [
  {
   "cell_type": "code",
   "execution_count": 1,
   "metadata": {},
   "outputs": [],
   "source": [
    "# 달력 프로그램에 사용할 모듈을 import 시킨다.\n",
    "from calendarModule import *"
   ]
  },
  {
   "cell_type": "code",
   "execution_count": 3,
   "metadata": {},
   "outputs": [
    {
     "name": "stdout",
     "output_type": "stream",
     "text": [
      "달력을 출력할 년과 월을 입력하세요 : 2020 3\n",
      "============================\n",
      "         2020년 3월\n",
      "============================\n",
      " 일  월  화  수  목  금  토 \n",
      "============================\n",
      "  1   2   3   4   5   6   7 \n",
      "  8   9  10  11  12  13  14 \n",
      " 15  16  17  18  19  20  21 \n",
      " 22  23  24  25  26  27  28 \n",
      " 29  30  31 \n",
      "============================\n"
     ]
    }
   ],
   "source": [
    "# 달력을 출력할 년, 월을 입력받는다.\n",
    "year, month = map(int, input('달력을 출력할 년과 월을 입력하세요 : ').split())\n",
    "\n",
    "print('=' * 28)\n",
    "print('         {0:4d}년{1:2d}월'.format(year, month))\n",
    "print('=' * 28)\n",
    "print(' 일  월  화  수  목  금  토 ')\n",
    "print('=' * 28)\n",
    "\n",
    "# 1일이 출력될 위치를 맞추기 위해 1일의 요일만큼 반복하며 빈 칸을 출력한다.\n",
    "for i in range(weekDay(year, month, 1)):\n",
    "    print('    ', end = '')\n",
    "\n",
    "# 1일 부터 달력을 출력할 달의 마지막 날짜까지 반복하며 날짜(i)를 출력한다.\n",
    "for i in range(1, lastDay(year, month) + 1):\n",
    "    print(' {0:2d} '.format(i), end = '')\n",
    "    # 출력한 날짜(i)가 토요일이고 그 달의 마지막 날짜가 아니면 줄을 바꾼다.\n",
    "    if weekDay(year, month, i) == 6 and i != lastDay(year, month):\n",
    "        print()\n",
    "# ============================================\n",
    "print('\\n' + '=' * 28)        "
   ]
  },
  {
   "cell_type": "code",
   "execution_count": 64,
   "metadata": {},
   "outputs": [
    {
     "name": "stdout",
     "output_type": "stream",
     "text": [
      "     March 2020\n",
      "Mo Tu We Th Fr Sa Su\n",
      "                   1\n",
      " 2  3  4  5  6  7  8\n",
      " 9 10 11 12 13 14 15\n",
      "16 17 18 19 20 21 22\n",
      "23 24 25 26 27 28 29\n",
      "30 31\n",
      "None\n",
      "0\n"
     ]
    }
   ],
   "source": [
    "import calendar\n",
    "\n",
    "# cal = calendar.calendar(2020)\n",
    "# print(cal)\n",
    "# print(calendar.calendar(2020)) # 특정해 1년 달력\n",
    "# print(calendar.prcal(2020)) # 특정해 1년 달력\n",
    "print(calendar.prmonth(2020, 3)) # 특정달 1달 달력\n",
    "print(calendar.weekday(2020, 3, 2)) # 요일 => 월(0), 화(1), 수(2), 목(3), 금(4), 토(5), 일(6)"
   ]
  },
  {
   "cell_type": "code",
   "execution_count": null,
   "metadata": {},
   "outputs": [],
   "source": []
  },
  {
   "cell_type": "code",
   "execution_count": null,
   "metadata": {},
   "outputs": [],
   "source": []
  },
  {
   "cell_type": "code",
   "execution_count": null,
   "metadata": {},
   "outputs": [],
   "source": []
  }
 ],
 "metadata": {
  "kernelspec": {
   "display_name": "Python 3",
   "language": "python",
   "name": "python3"
  },
  "language_info": {
   "codemirror_mode": {
    "name": "ipython",
    "version": 3
   },
   "file_extension": ".py",
   "mimetype": "text/x-python",
   "name": "python",
   "nbconvert_exporter": "python",
   "pygments_lexer": "ipython3",
   "version": "3.6.8"
  }
 },
 "nbformat": 4,
 "nbformat_minor": 4
}
