{
 "cells": [
  {
   "cell_type": "code",
   "execution_count": 3,
   "metadata": {},
   "outputs": [],
   "source": [
    "class Score:\n",
    "    # 생성자에서 Score 클래스의 객체가 생성될 때 이름과 3과목의 점수를 넘겨받아 멤버 변수를 초기화\n",
    "    # 시킨다.\n",
    "    def __init__(self, name, python, numpy, pandas):\n",
    "        # self가 앞에 붙은 변수를 멤버 변수라 부르고 붙지 않은 변수를 지역 변수라 부른다.\n",
    "        # self가 붙지 않은 변수는 선언된 함수 외부에서 사용할 수 없고 멤버 변수는 클래스 전체에서\n",
    "        # 사용할 수 있다.\n",
    "        # 생성자의 인수로 넘겨받은 데이터로 멤버 변수를 초기화 시킨다.\n",
    "        self.name = name\n",
    "        self.python = python\n",
    "        self.numpy = numpy\n",
    "        self.pandas = pandas\n",
    "        # 총점과 평균을 계산한다.\n",
    "        self.total = python + numpy + pandas\n",
    "        self.mean = self.total / 3\n",
    "    # 클래스의 멤버 변수에 저장된 데이터를 출력하는 함수를 정의한다.\n",
    "    def __str__(self):\n",
    "        # 한 문장이 길어서 한 줄에 다 코딩할 수 없을 경우 끝에 '\\'를 붙여주면 다음 줄과 이어지는\n",
    "        # 문장이 된다.\n",
    "        return '이름: {}, python: {}, numpy: {}, pandas: {}, 총점: {}, 평균: {}'.format(\\\n",
    "                    self.name, self.python, self.numpy, self.pandas, self.total, self.mean)"
   ]
  },
  {
   "cell_type": "code",
   "execution_count": 5,
   "metadata": {},
   "outputs": [
    {
     "name": "stdout",
     "output_type": "stream",
     "text": [
      "이름: 홍길동, python: 100, numpy: 90, pandas: 89, 총점: 279, 평균: 93.0\n"
     ]
    }
   ],
   "source": [
    "score1 = Score('홍길동', 100, 90, 89)\n",
    "print(score1)"
   ]
  },
  {
   "cell_type": "code",
   "execution_count": null,
   "metadata": {},
   "outputs": [],
   "source": []
  },
  {
   "cell_type": "code",
   "execution_count": null,
   "metadata": {},
   "outputs": [],
   "source": []
  },
  {
   "cell_type": "code",
   "execution_count": null,
   "metadata": {},
   "outputs": [],
   "source": []
  }
 ],
 "metadata": {
  "kernelspec": {
   "display_name": "Python 3",
   "language": "python",
   "name": "python3"
  },
  "language_info": {
   "codemirror_mode": {
    "name": "ipython",
    "version": 3
   },
   "file_extension": ".py",
   "mimetype": "text/x-python",
   "name": "python",
   "nbconvert_exporter": "python",
   "pygments_lexer": "ipython3",
   "version": "3.6.8"
  }
 },
 "nbformat": 4,
 "nbformat_minor": 4
}
